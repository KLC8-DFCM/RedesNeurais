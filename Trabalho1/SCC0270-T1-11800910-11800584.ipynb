{
 "cells": [
  {
   "cell_type": "markdown",
   "id": "4b0afbf6",
   "metadata": {},
   "source": [
    "# Redes Neurais e Aprendizado Profundo\n",
    "SCC0270 - 2/2022\n",
    "\n",
    "\n",
    "## Trabalho 1 - Redes Densas e Convolucionais\n",
    "\n",
    "NOME: Felipe Andrade Garcia Tommaselli \n",
    "\n",
    "NUSP: 11800910\n",
    "\n",
    "NOME: Diego Fleury Corrêa De Moraes\n",
    "\n",
    "NUSP: 11800584"
   ]
  },
  {
   "cell_type": "markdown",
   "id": "69d57ec5",
   "metadata": {},
   "source": [
    "Neste trabalho você deverá implementar duas redes neurais usando Pytorch, uma utilizando camadas densas e outra utilizando camadas convolucionais. Será utilizado o dataset Fashion MNIST."
   ]
  },
  {
   "cell_type": "markdown",
   "id": "302e4495",
   "metadata": {},
   "source": [
    "### Instruções:\n",
    "\n",
    "- Preencha o nome e o número USP da dupla na célula acima;\n",
    "- Renomeie o notebook, inserindo o número USP de cada um da dupla, conforme o exemplo: \"SCC0270-T1-1234567-7654321\";\n",
    "- Neste notebook, você irá encontrar 5 exercícios, cada um deles valendo uma certa quantidade de pontos. A conclusão de todos os exercícios com sucesso valerá nota 10;\n",
    "- Responda cada exercício inserindo o código adequado para cada função.\n",
    "- Envie o notebook inteiro como entrega do exercício.\n",
    "- Certifique-se de que os códigos executam corretamente, uma vez que a nota só será atribuída caso seja possível executar o código, e ele esteja correto.\n",
    "- Fraudes ou plágio implica em nota zero e possíveis medidas administrativas.\n"
   ]
  },
  {
   "cell_type": "markdown",
   "id": "f2eb4c72",
   "metadata": {},
   "source": [
    "### Objetivos:\n",
    "\n",
    "- Compreender como o aprendizado de máquina consegue resolver problemas que métodos tradicionais de programação não conseguem\n",
    "- Aprender sobre o dataset público Fashion MNIST\n",
    "- Observar as diferenças do uso de camadas densas e convolucionais"
   ]
  },
  {
   "cell_type": "markdown",
   "id": "cadc8bd2",
   "metadata": {},
   "source": [
    "### Imports"
   ]
  },
  {
   "cell_type": "code",
   "execution_count": 54,
   "id": "d6a6358b",
   "metadata": {},
   "outputs": [],
   "source": [
    "from torchvision import datasets, transforms, utils\n",
    "\n",
    "import torch\n",
    "import torch.nn as nn\n",
    "import torch.optim as optim\n",
    "import torch.nn.functional as F\n",
    "from torch.autograd import Variable\n",
    "\n",
    "import matplotlib.pyplot as plt\n",
    "import numpy as np"
   ]
  },
  {
   "cell_type": "code",
   "execution_count": 55,
   "id": "7538835c",
   "metadata": {},
   "outputs": [
    {
     "name": "stdout",
     "output_type": "stream",
     "text": [
      "GPU disponível: False\n"
     ]
    },
    {
     "data": {
      "text/plain": [
       "device(type='cpu')"
      ]
     },
     "execution_count": 55,
     "metadata": {},
     "output_type": "execute_result"
    }
   ],
   "source": [
    "# Selecionar GPU caso disponível\n",
    "print(\"GPU disponível:\", torch.cuda.is_available())\n",
    "device = torch.device(\"cuda:0\" if torch.cuda.is_available() else \"cpu\")\n",
    "device"
   ]
  },
  {
   "cell_type": "markdown",
   "id": "27fc071e",
   "metadata": {},
   "source": [
    "### Dataset Fashion-MNIST"
   ]
  },
  {
   "cell_type": "markdown",
   "id": "6ee649f9",
   "metadata": {},
   "source": [
    "### Dados, Anotações e Subsets\n",
    "\n",
    "- `train_set`: Imagens usadas para treinar a rede neural. Contém anotações corretas para cada imagem de `train_set`, usado para avaliar as predições do modelo durante a fase de treinamento.\n",
    "- `test_set`: Imagens usadas para avaliar o desempenho do modelo, uma vez que ele já foi treinado. Contém anotações corretas para cada imagem de `test_set`, usado para avaliar as predições do modelo durante a fase de validação\n"
   ]
  },
  {
   "cell_type": "markdown",
   "id": "a2827e94",
   "metadata": {},
   "source": [
    "### Importar dados para a memória"
   ]
  },
  {
   "cell_type": "code",
   "execution_count": 56,
   "id": "a567d63e",
   "metadata": {},
   "outputs": [],
   "source": [
    "# Fazer o download dos dados\n",
    "\n",
    "train_set = datasets.FashionMNIST(\n",
    "    \"./data\", \n",
    "    download=True, \n",
    "    train=True, \n",
    "    transform=transforms.Compose([transforms.ToTensor()])\n",
    ")\n",
    "train_loader = torch.utils.data.DataLoader(train_set, batch_size=100)\n",
    "\n",
    "test_set = datasets.FashionMNIST(\n",
    "    \"./data\", \n",
    "    download=True, \n",
    "    train=False, \n",
    "    transform=transforms.Compose([transforms.ToTensor()])\n",
    ") \n",
    "test_loader = torch.utils.data.DataLoader(test_set, batch_size=100)"
   ]
  },
  {
   "cell_type": "markdown",
   "id": "d9b6200b",
   "metadata": {},
   "source": [
    "### Explorando o dataset"
   ]
  },
  {
   "cell_type": "code",
   "execution_count": 57,
   "id": "9be98bd0",
   "metadata": {},
   "outputs": [
    {
     "data": {
      "text/plain": [
       "60000"
      ]
     },
     "execution_count": 57,
     "metadata": {},
     "output_type": "execute_result"
    }
   ],
   "source": [
    "# Tamanho do dataset\n",
    "len(train_set)"
   ]
  },
  {
   "cell_type": "code",
   "execution_count": 58,
   "id": "c00177e0",
   "metadata": {},
   "outputs": [
    {
     "data": {
      "text/plain": [
       "torch.Size([100, 1, 28, 28])"
      ]
     },
     "execution_count": 58,
     "metadata": {},
     "output_type": "execute_result"
    }
   ],
   "source": [
    "# Vamos observar o que é cada loader\n",
    "example = next(iter(train_loader))\n",
    "example[0].size()"
   ]
  },
  {
   "cell_type": "code",
   "execution_count": 59,
   "id": "3a096b21",
   "metadata": {},
   "outputs": [
    {
     "name": "stdout",
     "output_type": "stream",
     "text": [
      "9\n"
     ]
    },
    {
     "data": {
      "image/png": "[encoded data removed]",
      "text/plain": [
       "<Figure size 640x480 with 1 Axes>"
      ]
     },
     "metadata": {},
     "output_type": "display_data"
    }
   ],
   "source": [
    "# Uma imagem do train_set, com sua respectiva label\n",
    "img, label = next(iter(train_set))\n",
    "plt.imshow(img.squeeze(), cmap=\"gray\")\n",
    "print(label)"
   ]
  },
  {
   "cell_type": "code",
   "execution_count": 60,
   "id": "df314fc6",
   "metadata": {},
   "outputs": [],
   "source": [
    "# Função de ajuda para ler o que significa cada label\n",
    "def convert_label(label):\n",
    "    output_mapping = {\n",
    "        0: \"T-shirt/Top\",\n",
    "        1: \"Trouser\",\n",
    "        2: \"Pullover\",\n",
    "        3: \"Dress\",\n",
    "        4: \"Coat\", \n",
    "        5: \"Sandal\", \n",
    "        6: \"Shirt\",\n",
    "        7: \"Sneaker\",\n",
    "        8: \"Bag\",\n",
    "        9: \"Ankle Boot\"\n",
    "    }\n",
    "\n",
    "    if type(label) == torch.Tensor:\n",
    "        input = label.item()  \n",
    "    else:\n",
    "        input = label\n",
    "\n",
    "    return output_mapping[input]"
   ]
  },
  {
   "cell_type": "code",
   "execution_count": 61,
   "id": "644bacf0",
   "metadata": {},
   "outputs": [
    {
     "name": "stdout",
     "output_type": "stream",
     "text": [
      "1: <class 'torch.Tensor'> <class 'torch.Tensor'>\n",
      "2: torch.Size([10, 1, 28, 28]) torch.Size([10])\n",
      "labels:  Ankle Boot, T-shirt/Top, T-shirt/Top, Dress, T-shirt/Top, Pullover, Sneaker, Pullover, Sandal, Sandal, "
     ]
    },
    {
     "data": {
      "image/png": "[encoded data removed]",
      "text/plain": [
       "<Figure size 1500x2000 with 1 Axes>"
      ]
     },
     "metadata": {},
     "output_type": "display_data"
    }
   ],
   "source": [
    "# Vamos observar algumas imagens do Fashion MNIST\n",
    "\n",
    "demo_loader = torch.utils.data.DataLoader(train_set, batch_size=10)\n",
    "\n",
    "batch = next(iter(demo_loader))\n",
    "images, labels = batch\n",
    "print('1:', type(images), type(labels))\n",
    "print('2:', images.shape, labels.shape)\n",
    "\n",
    "grid = utils.make_grid(images, nrow=10)\n",
    "\n",
    "plt.figure(figsize=(15, 20))\n",
    "plt.imshow(np.transpose(grid, (1, 2, 0)))\n",
    "print(\"labels: \", end=\" \")\n",
    "for i, label in enumerate(labels):\n",
    "    print(convert_label(label), end=\", \")"
   ]
  },
  {
   "cell_type": "markdown",
   "id": "fc89190d",
   "metadata": {},
   "source": [
    "### Exercício 1 (3 pontos)\n",
    "\n",
    "**Exercício**: Neste trabalho, será necessário implementar duas arquiteturas distintas de redes neurais. Uma vez que elas estejam implementadas, será necessário executar o laço (loop) de treinamento dos modelos por diversas épocas. Para isso, nesse primeiro exercício, crie uma função genérica, capaz de receber um modelo Pytorch e executar os passos básicos de propagação, cálculo do erro, retropropagação e atualização dos pesos. Essa função será utilizada nos exercícios seguintes para treinar os modelos por você implementados. Implemente o laço de treinamento de um modelo por num_epochs.\n",
    "\n",
    "**Instruções**:\n",
    "- Implemente os passos de propagação (forward)\n",
    "- Realize o cálculo do erro usando um critério genérico fornecido pela assinatura da função\n",
    "- Inicialize os gradientes a zero\n",
    "- Implemente o passo de retropropagação do erro (backpropagation)\n",
    "- Faça um passo de otimização\n",
    "- DICA: como essas linhas estão englobadas em uma função, utilize os argumentos da função fit(...), de forma genérica\n"
   ]
  },
  {
   "cell_type": "code",
   "execution_count": 62,
   "id": "2facaa06",
   "metadata": {},
   "outputs": [],
   "source": [
    "def fit(model, criterion, optimizer, train_loader, test_loader, num_epochs=5):\n",
    "    model.to(device)\n",
    "    \n",
    "    train_losses = []\n",
    "    test_losses = []\n",
    "    \n",
    "    # Lists for visualization of loss and accuracy \n",
    "    accuracy_list = []\n",
    "\n",
    "    # Lists for knowing classwise accuracy\n",
    "    predictions_list = []\n",
    "    labels_list = []\n",
    "\n",
    "    for epoch in range(num_epochs):\n",
    "        running_loss = 0\n",
    "\n",
    "        for images, labels in train_loader:\n",
    "            # Transfering images and labels to GPU if available\n",
    "            images, labels = images.to(device), labels.to(device)\n",
    "\n",
    "            ### INÍCIO DO CÓDIGO ### (≈ 5 linhas)\n",
    "            \n",
    "            outputs = model.forward(images)  # propagação para frente\n",
    "            loss = criterion(outputs, labels) # cálculo do erro\n",
    "            optimizer.zero_grad() # inicialização dos gradiente a zero\n",
    "            loss.backward() # propagação para trás\n",
    "            optimizer.step() # atualização dos pesos\n",
    "\n",
    "            ### FIM DO CÓDIGO ###\n",
    "            running_loss += loss.item()\n",
    "\n",
    "        else:\n",
    "        # Testing the model\n",
    "            with torch.no_grad():\n",
    "                # Set the model to evaluation mode\n",
    "                model.eval()\n",
    "\n",
    "                total = 0\n",
    "                test_loss = 0\n",
    "                correct = 0\n",
    "\n",
    "                for images, labels in test_loader:\n",
    "                    images, labels = images.to(device), labels.to(device)\n",
    "                    labels_list.append(labels)\n",
    "                    total += len(labels)\n",
    "                    \n",
    "                    ### INÍCIO DO CÓDIGO ### (≈ 1 linha)\n",
    "                    outputs = model.forward(images) # propagação para frente\n",
    "                    \n",
    "                    ### FIM DO CÓDIGO ###\n",
    "                    \n",
    "                    predictions = torch.max(outputs, 1)[1].to(device)\n",
    "                    predictions_list.append(predictions)\n",
    "                    correct += (predictions == labels).sum()\n",
    "\n",
    "                    test_loss += criterion(outputs, labels).item()\n",
    "                test_losses.append(test_loss/len(test_loader))\n",
    "\n",
    "                accuracy = correct * 100 / total\n",
    "                accuracy_list.append(accuracy.item())\n",
    "            \n",
    "\n",
    "            # Set the model to training mode\n",
    "            model.train()\n",
    "        \n",
    "        train_losses.append(running_loss/len(train_loader))\n",
    "\n",
    "        print(f'Epoch {epoch+1}/{num_epochs} .. Train Loss: {train_losses[-1]:.5f} .. Test Loss: {test_losses[-1]:.5f} .. Test Accuracy: {accuracy_list[-1]:.3f}%')\n",
    "\n",
    "            \n",
    "    results = {\n",
    "        'train_losses': train_losses,\n",
    "        'test_losses': test_losses,\n",
    "        'accuracy_list': accuracy_list\n",
    "    }\n",
    "    \n",
    "    return results"
   ]
  },
  {
   "cell_type": "markdown",
   "id": "889cbf8e",
   "metadata": {},
   "source": [
    "### Exercício 2 - Camadas Densas (2 pontos)\n",
    "\n",
    "**Exercício 2.A**: Implemente uma rede neural, usando camadas densas (fully connected), capaz de classificar as imagens do dataset Fashion MNIST. Descreva e justifique a escolha dos parâmetros e das camadas.\n",
    "\n",
    "**Instruções**:\n",
    "- Inicialize a superclasse\n",
    "- Crie o projeto da rede neural usando camadas densas\n",
    "- Implemente o passo de propagação\n",
    "- Insira uma célula de texto, ou comentários ao longo do código com a justificativa"
   ]
  },
  {
   "cell_type": "code",
   "execution_count": 63,
   "id": "444c110e",
   "metadata": {},
   "outputs": [],
   "source": [
    "class NetworkDense(nn.Module):\n",
    "\n",
    "    def __init__(self):\n",
    "        \n",
    "        # Inicialização da classe pai\n",
    "        super(NetworkDense, self).__init__()\n",
    "\n",
    "        self.fc1 = nn.Linear(28*28, 1024) # 28*28 = tamanho da imagem\n",
    "        self.fc2 = nn.Linear(1024, 512) # 1024 = número de neurônios da camada anterior\n",
    "        self.fc3 = nn.Linear(512, 256) # 512 = número de neurônios da camada anterior\n",
    "        self.fc4 = nn.Linear(256, 128) # 256 = número de neurônios da camada anterior\n",
    "        self.fc5 = nn.Linear(128, 10) # 128 = número de neurônios da camada anterior\n",
    "        \n",
    "    def forward(self, x):\n",
    "        \n",
    "        x = torch.flatten(x,1) # achatando a imagem\n",
    "        x = F.relu(self.fc1(x)) # camada fully connected 1 + ReLU\n",
    "        x = F.relu(self.fc2(x)) # camada fully connected 2 + ReLU\n",
    "        x = F.relu(self.fc3(x)) # camada fully connected 3 + ReLU\n",
    "        x = F.relu(self.fc4(x)) # camada fully connected 4 + ReLU\n",
    "        x = F.relu(self.fc5(x)) # camada fully connected 5 + ReLU \n",
    "\n",
    "        return x\n"
   ]
  },
  {
   "cell_type": "markdown",
   "id": "d9816ce8",
   "metadata": {},
   "source": [
    "### Justifique a escolha da arquitetura\n",
    "\n",
    "\n",
    "**Resposta:** A rede possui 4 camadas lineares simples, com dimensões que inicialmente crescem (em relação ao tamanho da camada anterior) e posteriormente converge para um número menor de neurônios. \n",
    "\n",
    "Isso tem como objetivo tentar aumentar inicialmente a de aumentar a quantidade de representações internas (como se fosse um \"upsampling\" de informação útil) e logo depois comprime-se a informação, de forma a possibilitar maior assimilação de padrões. Isso mostrou-se (em algumas pesquisas feitas) como sendo o padrão para redes densas simples. \n",
    "\n",
    "O uso de funções de ativação ReLU tem como objetivo simplificar o uso dos gradientes (por terem uma derivada simples), apesar de, em casos extremos, poder gerar _gradient vanishing_ (não preocupante nesse caso pela rede pouco profunda)."
   ]
  },
  {
   "cell_type": "markdown",
   "id": "6099498b",
   "metadata": {},
   "source": [
    "**Exercício 2.B**: Utilizando a classe `NetworkDense` implementada anteriormente, inicialize o modelo, defina uma função para loss, o otimizador, e a learning rate desejados. Depois, treine o modelo por algumas épocas."
   ]
  },
  {
   "cell_type": "code",
   "execution_count": 64,
   "id": "2eba9050",
   "metadata": {
    "scrolled": true
   },
   "outputs": [
    {
     "name": "stdout",
     "output_type": "stream",
     "text": [
      "NetworkDense(\n",
      "  (fc1): Linear(in_features=784, out_features=1024, bias=True)\n",
      "  (fc2): Linear(in_features=1024, out_features=512, bias=True)\n",
      "  (fc3): Linear(in_features=512, out_features=256, bias=True)\n",
      "  (fc4): Linear(in_features=256, out_features=128, bias=True)\n",
      "  (fc5): Linear(in_features=128, out_features=10, bias=True)\n",
      ")\n"
     ]
    }
   ],
   "source": [
    "### INÍCIO DO CÓDIGO ### (≈ 4 linhas)\n",
    "model_dense = NetworkDense() # instanciando o modelo\n",
    "criterion = nn.CrossEntropyLoss() # função de custo\n",
    "learning_rate = 0.001 # taxa de aprendizado\n",
    "optimizer = torch.optim.Adam(model_dense.parameters(), lr=learning_rate) # otimizador\n",
    "### FIM DO CÓDIGO ###\n",
    "\n",
    "print(model_dense)"
   ]
  },
  {
   "cell_type": "code",
   "execution_count": 65,
   "id": "0d77c184",
   "metadata": {
    "scrolled": true
   },
   "outputs": [
    {
     "name": "stdout",
     "output_type": "stream",
     "text": [
      "Epoch 1/15 .. Train Loss: 1.11607 .. Test Loss: 0.90469 .. Test Accuracy: 64.840%\n",
      "Epoch 2/15 .. Train Loss: 0.82012 .. Test Loss: 0.86708 .. Test Accuracy: 66.500%\n",
      "Epoch 3/15 .. Train Loss: 0.78215 .. Test Loss: 0.83248 .. Test Accuracy: 67.390%\n",
      "Epoch 4/15 .. Train Loss: 0.75789 .. Test Loss: 0.81102 .. Test Accuracy: 68.100%\n",
      "Epoch 5/15 .. Train Loss: 0.73733 .. Test Loss: 0.84752 .. Test Accuracy: 67.090%\n",
      "Epoch 6/15 .. Train Loss: 0.72379 .. Test Loss: 0.82449 .. Test Accuracy: 67.400%\n",
      "Epoch 7/15 .. Train Loss: 0.71129 .. Test Loss: 0.78819 .. Test Accuracy: 68.850%\n",
      "Epoch 8/15 .. Train Loss: 0.69998 .. Test Loss: 0.79574 .. Test Accuracy: 69.180%\n",
      "Epoch 9/15 .. Train Loss: 0.68863 .. Test Loss: 0.80602 .. Test Accuracy: 68.530%\n",
      "Epoch 10/15 .. Train Loss: 0.67874 .. Test Loss: 0.79421 .. Test Accuracy: 69.190%\n",
      "Epoch 11/15 .. Train Loss: 0.66780 .. Test Loss: 0.79976 .. Test Accuracy: 69.420%\n",
      "Epoch 12/15 .. Train Loss: 0.66252 .. Test Loss: 0.80903 .. Test Accuracy: 69.170%\n",
      "Epoch 13/15 .. Train Loss: 0.65285 .. Test Loss: 0.80288 .. Test Accuracy: 69.200%\n",
      "Epoch 14/15 .. Train Loss: 0.64323 .. Test Loss: 0.81542 .. Test Accuracy: 69.270%\n",
      "Epoch 15/15 .. Train Loss: 0.63782 .. Test Loss: 0.83457 .. Test Accuracy: 69.300%\n",
      "{'train_losses': [1.116069377064705, 0.8201207951704661, 0.7821544888615608, 0.7578929339845976, 0.7373255743583044, 0.7237914708753427, 0.7112923920651277, 0.6999761442343394, 0.6886283854643503, 0.6787449027597904, 0.6677950521806876, 0.6625166069467863, 0.6528512297074, 0.6432256892323494, 0.6378171909848849], 'test_losses': [0.9046910208463669, 0.867082913517952, 0.8324845147132873, 0.8110221964120865, 0.8475247311592102, 0.8244914597272873, 0.7881929975748062, 0.7957364851236344, 0.8060213947296142, 0.794206055700779, 0.7997610390186309, 0.8090307354927063, 0.8028797155618668, 0.8154192233085632, 0.8345729041099549], 'accuracy_list': [64.83999633789062, 66.5, 67.38999938964844, 68.0999984741211, 67.08999633789062, 67.4000015258789, 68.8499984741211, 69.18000030517578, 68.52999877929688, 69.19000244140625, 69.41999816894531, 69.16999816894531, 69.19999694824219, 69.2699966430664, 69.30000305175781]}\n"
     ]
    }
   ],
   "source": [
    "### INÍCIO DO CÓDIGO ### (≈ 1 linha)\n",
    "dense_results = fit(model_dense, criterion, optimizer, train_loader, test_loader, num_epochs=15) # treinando o modelo\n",
    "print(dense_results)\n",
    "### FIM DO CÓDIGO ###"
   ]
  },
  {
   "cell_type": "markdown",
   "id": "41b4c0e9",
   "metadata": {},
   "source": [
    "### Exercício 3  - Camadas Convolucionais (2 pontos)\n",
    "\n",
    "**Exercício 3.A**: Implemente uma rede neural, usando camadas convolucionais (Conv2d), capaz de classificar as imagens do dataset Fashion MNIST. Descreva e justifique a escolha dos parâmetros e das camadas.\n",
    "\n",
    "**Instruções**:\n",
    "- Inicialize a superclasse\n",
    "- Crie o projeto da rede neural usando camadas convolucionais\n",
    "- Implemente o passo de propagação\n",
    "- Insira uma célula de texto, ou comentários ao longo do código com a justificativa"
   ]
  },
  {
   "cell_type": "code",
   "execution_count": 66,
   "id": "336672d4",
   "metadata": {},
   "outputs": [],
   "source": [
    "class NetworkCNN(nn.Module):\n",
    "    \n",
    "    def __init__(self):\n",
    "        \n",
    "        ### INÍCIO DO CÓDIGO ### (≈ 5 linhas)\n",
    "        # herda da classe nn.Module\n",
    "        super(NetworkCNN, self).__init__()\n",
    "        # 1 entrada imagem, 32 saídas, 3x3 convolução\n",
    "        self.cnn1 = nn.Conv2d(in_channels=1, out_channels= 32, kernel_size=3, stride=1, padding=0)\n",
    "        # 32 entrada imagem, 64 saídas, 3x3 convolução\n",
    "        self.cnn2 = nn.Conv2d(in_channels=32, out_channels= 64, kernel_size=3, stride=1, padding=0)\n",
    "        # 64 entrada imagem, 128 saídas, 3x3 convolução\n",
    "        self.cnn3 = nn.Conv2d(in_channels=64, out_channels= 128, kernel_size=3, stride=1, padding=0)\n",
    "        # camada fully connected (128 * 3 * 3 -> 128)\n",
    "        self.fc1 = nn.Linear(128 * 5 * 5, 128)\n",
    "        # camada fully connected (128 -> 10)\n",
    "        self.fc2 = nn.Linear(128, 10)\n",
    "\n",
    "    def forward(self, x):\n",
    "        \n",
    "        ### INÍCIO DO CÓDIGO ### (≈ 5 linhas)\n",
    "        x = F.relu(self.cnn1(x)) # primeira camada conv + ReLU\n",
    "        x = F.max_pool2d(x, kernel_size=3, stride=2) # Max pooling over a (3, 3) window com stride 2\n",
    "        x = F.relu(self.cnn2(x)) # segunda camada conv + ReLU\n",
    "        x = F.max_pool2d(x, kernel_size=3, stride=1) # Max pooling over a (3, 3) window com stride 1\n",
    "        x = F.relu(self.cnn3(x)) # terceira camada conv + ReLU\n",
    "        x = F.max_pool2d(x, kernel_size=2, stride=1) # Max pooling over a (2, 2) window com stride 1\n",
    "        x = torch.flatten(x, 1) # comprime a entrada para um vetor\n",
    "        x = self.fc1(x) # primeira camada fully connected\n",
    "        x = self.fc2(x) # segunda camada fully connected\n",
    "\n",
    "\n",
    "        return x"
   ]
  },
  {
   "cell_type": "markdown",
   "id": "a6952e4e",
   "metadata": {},
   "source": [
    "### Justifique a escolha da arquitetura\n",
    "\n",
    "**Resposta:** A arquitetura utilizada foi baseada em uma rede convolucional sequencial básica, uma vez que as dimensões do problema eram relativamente baixas e o dataset por si só já apresentava uma robustez interessante. Por isso, optou-se por utilizar 3 camadas convolucionais ativadas com uma função ReLU, cada camada separada por um pooling de tamanhos de kernel e strides variados, uma vez que dessa forma foi possível compatibilizar o tamanho da saída achatada (128 * 5 * 5 = 3200) com  o da primeira camada fully connected. Foram feitos testes empíricos com 2 camadas convolucionais apenas e pela acurácia final, ficou evidente que utilizar 3 camadas era mais vantajoso."
   ]
  },
  {
   "cell_type": "markdown",
   "id": "b98c48dc",
   "metadata": {},
   "source": [
    "**Exercício 3.B**: Utilizando a classe `NetworkCNN` implementada anteriormente, inicialize o modelo, defina uma função para loss, o otimizador, e a learning rate desejados. Depois, treine o modelo por algumas épocas."
   ]
  },
  {
   "cell_type": "code",
   "execution_count": 67,
   "id": "58287f52",
   "metadata": {},
   "outputs": [
    {
     "name": "stdout",
     "output_type": "stream",
     "text": [
      "tensor(2.3151, grad_fn=<NllLossBackward0>)\n",
      "NetworkCNN(\n",
      "  (cnn1): Conv2d(1, 32, kernel_size=(3, 3), stride=(1, 1))\n",
      "  (cnn2): Conv2d(32, 64, kernel_size=(3, 3), stride=(1, 1))\n",
      "  (cnn3): Conv2d(64, 128, kernel_size=(3, 3), stride=(1, 1))\n",
      "  (fc1): Linear(in_features=3200, out_features=128, bias=True)\n",
      "  (fc2): Linear(in_features=128, out_features=10, bias=True)\n",
      ")\n"
     ]
    }
   ],
   "source": [
    "### INÍCIO DO CÓDIGO ### (≈ 4 linhas)\n",
    "model_cnn = NetworkCNN() # cria modelo\n",
    "criterion = nn.CrossEntropyLoss() # função de custo\n",
    "learning_rate = 0.001 # taxa de aprendizado\n",
    "optimizer = torch.optim.Adam(model_cnn.parameters(), lr=learning_rate) # otimizador\n",
    "### FIM DO CÓDIGO ###\n",
    "\n",
    "loss = criterion(model_cnn(images), labels) # calcula a função de custo\n",
    "print(loss) # imprime o valor da função de custo\n",
    "print(model_cnn) # imprime a arquitetura do modelo"
   ]
  },
  {
   "cell_type": "code",
   "execution_count": 68,
   "id": "0b240e9c",
   "metadata": {},
   "outputs": [
    {
     "name": "stdout",
     "output_type": "stream",
     "text": [
      "Epoch 1/15 .. Train Loss: 0.59016 .. Test Loss: 0.45081 .. Test Accuracy: 83.670%\n",
      "Epoch 2/15 .. Train Loss: 0.37382 .. Test Loss: 0.37704 .. Test Accuracy: 86.430%\n",
      "Epoch 3/15 .. Train Loss: 0.32217 .. Test Loss: 0.35318 .. Test Accuracy: 87.110%\n",
      "Epoch 4/15 .. Train Loss: 0.29193 .. Test Loss: 0.33348 .. Test Accuracy: 87.880%\n",
      "Epoch 5/15 .. Train Loss: 0.26599 .. Test Loss: 0.31793 .. Test Accuracy: 88.530%\n",
      "Epoch 6/15 .. Train Loss: 0.24747 .. Test Loss: 0.30698 .. Test Accuracy: 88.930%\n",
      "Epoch 7/15 .. Train Loss: 0.23126 .. Test Loss: 0.29816 .. Test Accuracy: 89.510%\n",
      "Epoch 8/15 .. Train Loss: 0.21699 .. Test Loss: 0.30631 .. Test Accuracy: 89.340%\n",
      "Epoch 9/15 .. Train Loss: 0.20506 .. Test Loss: 0.31194 .. Test Accuracy: 89.510%\n",
      "Epoch 10/15 .. Train Loss: 0.19544 .. Test Loss: 0.33229 .. Test Accuracy: 89.110%\n",
      "Epoch 11/15 .. Train Loss: 0.18296 .. Test Loss: 0.34901 .. Test Accuracy: 89.210%\n",
      "Epoch 12/15 .. Train Loss: 0.17363 .. Test Loss: 0.36742 .. Test Accuracy: 89.280%\n",
      "Epoch 13/15 .. Train Loss: 0.16094 .. Test Loss: 0.38934 .. Test Accuracy: 89.110%\n",
      "Epoch 14/15 .. Train Loss: 0.15766 .. Test Loss: 0.39360 .. Test Accuracy: 88.960%\n",
      "Epoch 15/15 .. Train Loss: 0.14830 .. Test Loss: 0.42078 .. Test Accuracy: 89.120%\n",
      "{'train_losses': [0.5901596974829832, 0.37382099010050296, 0.3221676551798979, 0.291927493562301, 0.26598713057736556, 0.24747193014870086, 0.23126275199155014, 0.21699232185880343, 0.20506147284060716, 0.19544484636435905, 0.18296170733248193, 0.17363256953656672, 0.1609382898422579, 0.15766116745149095, 0.14829858073033392], 'test_losses': [0.45080779522657394, 0.3770428079366684, 0.35317881882190705, 0.33348373234272005, 0.31793396174907684, 0.3069762958586216, 0.29816236078739167, 0.30631334699690344, 0.311940198764205, 0.3322942493855953, 0.3490136744081974, 0.36742441944777965, 0.3893440547585487, 0.393603297919035, 0.4207809980213642], 'accuracy_list': [83.66999816894531, 86.43000030517578, 87.11000061035156, 87.87999725341797, 88.52999877929688, 88.93000030517578, 89.51000213623047, 89.33999633789062, 89.51000213623047, 89.11000061035156, 89.20999908447266, 89.27999877929688, 89.11000061035156, 88.95999908447266, 89.12000274658203]}\n"
     ]
    }
   ],
   "source": [
    "### INÍCIO DO CÓDIGO ### (≈ 1 linha)\n",
    "cnn_results = fit(\n",
    "    model_cnn, criterion, optimizer, train_loader, test_loader, num_epochs=15) # treina o modelo\n",
    "print(cnn_results)\n",
    "### FIM DO CÓDIGO ###"
   ]
  },
  {
   "cell_type": "markdown",
   "id": "d8f10449",
   "metadata": {},
   "source": [
    "### Exercício 4  - Quantidade de parâmetros treináveis (1 ponto)\n",
    "\n",
    "**Exercício**: Quantos parâmetros treináveis cada um dos modelos desenvolvidos possui? Justifique. Informe os valores para `model_dense` e `model_cnn`."
   ]
  },
  {
   "cell_type": "code",
   "execution_count": 69,
   "id": "87df2a6a",
   "metadata": {},
   "outputs": [
    {
     "name": "stdout",
     "output_type": "stream",
     "text": [
      "Numero de parâmetros treináveis para rede densa =  1494154 \n",
      "\n",
      "Numero de parâmetros treináveis para rede convolucional =  503690 \n",
      "\n"
     ]
    }
   ],
   "source": [
    "# Mapeamento do número de parâmetros\n",
    "total_params_dense = sum(\n",
    "    param.numel() for param in model_dense.parameters() if param.requires_grad\n",
    ")\n",
    "\n",
    "# Mapeamento do número de parâmetros\n",
    "total_params_cnn = sum(\n",
    "    param.numel() for param in model_cnn.parameters() if param.requires_grad\n",
    ")\n",
    "\n",
    "print('Numero de parâmetros treináveis para rede densa = ', total_params_dense,'\\n')\n",
    "print('Numero de parâmetros treináveis para rede convolucional = ', total_params_cnn,'\\n')"
   ]
  },
  {
   "cell_type": "markdown",
   "id": "5b23ef3b",
   "metadata": {},
   "source": [
    "### Exercício 5 - Comparação de Resultados (2 pontos)\n",
    "\n",
    "**Exercício**: Compare as métricas de acurácia dos dois modelos desenvolvidos. Qual dos dois obteve melhores resultados?  Por quê? Qual característica das redes que justificam seu desempenho?\n",
    "\n",
    "Utilize o gráfico para auxiliar na análise. Insira uma célula de texto com a sua resposta"
   ]
  },
  {
   "cell_type": "markdown",
   "id": "9268344a",
   "metadata": {},
   "source": [
    "O modelo de redes convolucionais obteve melhor desempenho. Isso se deve principalmente por conta de fatores cruciais no poder representativo de cada arquitetura.\n",
    "\n",
    "Redes CNN tem como viés indutivo de função o fato de a localidade na entrada (pixeis próximos) corresponderem a informações mais relevantes como um todo (para a tarefa). Isso corresponde bem à classificação em mãos, dado que traços, cores e texturas são _features_ importantes para a detecção da classe, e são melhor capturadas por este tipo de função (convolução).\n",
    "\n",
    "Redes simples (profundas completamente conexas) possuem não somente mais parâmetros (espaço de busca de funções ótimas é mais extenso, o que leva mais tempo e recursos computacionais) como também são menos próprias para estas tarefas. Como a função de ativação fora a ReLU, tem-se a suspeita que o baixo desempenho do modelo como um todo tenha sido por conta de gradientes muito pequenos.  "
   ]
  },
  {
   "cell_type": "code",
   "execution_count": 70,
   "id": "82a9a2fe",
   "metadata": {},
   "outputs": [
    {
     "data": {
      "image/png": "[encoded data removed]",
      "text/plain": [
       "<Figure size 640x480 with 1 Axes>"
      ]
     },
     "metadata": {},
     "output_type": "display_data"
    }
   ],
   "source": [
    "### INÍCIO DO CÓDIGO ### (≈ 2 linhas)\n",
    "plt.plot(cnn_results['accuracy_list'], label='CNN') # plotando a acurácia da CNN\n",
    "plt.plot(dense_results['accuracy_list'], label='Dense') # plotando a acurácia da rede densa\n",
    "### FIM DO CÓDIGO ###\n",
    "\n",
    "plt.legend(frameon=False)\n",
    "plt.xlabel(\"Epoch\")\n",
    "plt.ylabel(\"Accuracy\")\n",
    "plt.title(\"Accuracy\")\n",
    "plt.show()"
   ]
  },
  {
   "cell_type": "markdown",
   "id": "453a0b7f",
   "metadata": {},
   "source": [
    "(Escreva sua resposta)"
   ]
  },
  {
   "cell_type": "markdown",
   "id": "5040a0be",
   "metadata": {},
   "source": [
    "### Indo além... - Comparação de Resultados (sem ponto)\n",
    "\n",
    "É possível plotar o gráfico de loss do treino e da validação para cada um dos modelos. Observe como os erros se comportam de maneira diferente para cada um dos subsets."
   ]
  },
  {
   "cell_type": "code",
   "execution_count": 71,
   "id": "98b72e6a",
   "metadata": {},
   "outputs": [
    {
     "data": {
      "image/png": "[encoded data removed]",
      "text/plain": [
       "<Figure size 640x480 with 1 Axes>"
      ]
     },
     "metadata": {},
     "output_type": "display_data"
    }
   ],
   "source": [
    "plt.plot(cnn_results['train_losses'], label='Training loss') # plotando a função de custo da CNN\n",
    "plt.plot(cnn_results['test_losses'], label='Validation loss') # plotando a função de custo da CNN\n",
    "\n",
    "plt.legend(frameon=False)\n",
    "plt.xlabel(\"Epoch\")\n",
    "plt.ylabel(\"Loss\")\n",
    "plt.title(\"Loss\")\n",
    "plt.show()"
   ]
  },
  {
   "cell_type": "code",
   "execution_count": 72,
   "id": "71da0c86",
   "metadata": {},
   "outputs": [
    {
     "data": {
      "image/png": "[encoded data removed]",
      "text/plain": [
       "<Figure size 640x480 with 1 Axes>"
      ]
     },
     "metadata": {},
     "output_type": "display_data"
    }
   ],
   "source": [
    "plt.plot(dense_results['train_losses'], label='Training loss') # plotando a função de custo da rede densa\n",
    "plt.plot(dense_results['test_losses'], label='Validation loss') # plotando a função de custo da rede densa\n",
    "\n",
    "plt.legend(frameon=False)\n",
    "plt.xlabel(\"Epoch\")\n",
    "plt.ylabel(\"Loss\")\n",
    "plt.title(\"Loss\")\n",
    "plt.show()"
   ]
  }
 ],
 "metadata": {
  "kernelspec": {
   "display_name": "Python 3.9.13 64-bit (microsoft store)",
   "language": "python",
   "name": "python3"
  },
  "language_info": {
   "codemirror_mode": {
    "name": "ipython",
    "version": 3
   },
   "file_extension": ".py",
   "mimetype": "text/x-python",
   "name": "python",
   "nbconvert_exporter": "python",
   "pygments_lexer": "ipython3",
   "version": "3.9.13"
  },
  "toc": {
   "base_numbering": 1,
   "nav_menu": {},
   "number_sections": false,
   "sideBar": false,
   "skip_h1_title": false,
   "title_cell": "Table of Contents",
   "title_sidebar": "Contents",
   "toc_cell": false,
   "toc_position": {},
   "toc_section_display": false,
   "toc_window_display": false
  },
  "vscode": {
   "interpreter": {
    "hash": "a33b474888067a6169f866e52f630d6f3672d35114c8362b477a93e2a003ce7e"
   }
  }
 },
 "nbformat": 4,
 "nbformat_minor": 5
}
