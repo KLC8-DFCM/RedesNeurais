{
 "cells": [
  {
   "cell_type": "markdown",
   "metadata": {},
   "source": [
    "# AULA 7 DEMONSTRAÇÃO 1- Autoencders\n",
    "\n",
    "Aula 7- Aula Assíncrona\n",
    "> https://www.youtube.com/watch?v=2EBt0sS7kwI&ab_channel=MoacirAntonelliPonti\n",
    "\n",
    "---\n",
    "\n",
    "## Autoencoder em pytorch\n",
    "\n",
    "- utilizar o minist como exemnplo de dataset\n",
    "\n",
    "---"
   ]
  },
  {
   "cell_type": "code",
   "execution_count": 44,
   "metadata": {},
   "outputs": [],
   "source": [
    "import torch\n",
    "import torch.nn as nn\n",
    "import torch.nn.functional as F\n",
    "\n",
    "from torchvision import datasets, transforms\n",
    "import matplotlib.pyplot as plt"
   ]
  },
  {
   "cell_type": "markdown",
   "metadata": {},
   "source": [
    "Podemos carregar um dataset já existente, utilizando os seguintes parâmetros:\n",
    "- `root`: caminho onde os dados serão armazenados localmente\n",
    "- `train`: variável binária que define se carregar os dados de treinamento (`True`) o teste (`False`)\n",
    "- `download`: se `True` faz download da Internet caso os dados não estejam disponíveis localmente\n",
    "- `transform` e `target_transform` especifica transformações para as features e labels."
   ]
  },
  {
   "cell_type": "code",
   "execution_count": 45,
   "metadata": {},
   "outputs": [],
   "source": [
    "# tranforma imagens em tensores\n",
    "tensor_transform = transforms.ToTensor()\n",
    "\n",
    "# Download e carregamento do dataset MNIST\n",
    "dataset = datasets.MNIST(root='./data', train=True, download=True, transform=tensor_transform)\n",
    "\n",
    "# Cria um DataLoader para o dataset\n",
    "dataloader = torch.utils.data.DataLoader(dataset, batch_size=32, shuffle=True)"
   ]
  },
  {
   "cell_type": "code",
   "execution_count": 46,
   "metadata": {},
   "outputs": [],
   "source": [
    "class Autoencoder(nn.Module):\n",
    "    \n",
    "    def __init__(self):\n",
    "        super().__init__()\n",
    "        # Encoder\n",
    "        self.encoder = nn.Sequential(\n",
    "            nn.Linear(28*28, 128), # 28*28 = 784 -> 128\n",
    "            nn.ReLU(),\n",
    "            nn.Linear(128, 32), # 128 -> 32\n",
    "            nn.ReLU(),\n",
    "        ) # saida do encoder: 32\n",
    "        # Decoder\n",
    "        self.decoder = nn.Sequential(\n",
    "            nn.Linear(32, 128), # 32 -> 128\n",
    "            nn.ReLU(),\n",
    "            nn.Linear(128, 28*28), # 128 -> 28*28 = 784\n",
    "            nn.Sigmoid(), # simoid para normalizar os valores entre 0 e 1\n",
    "        ) # saida do decoder: 784\n",
    "\n",
    "    def forward(self, x):\n",
    "        z = self.encoder(x)\n",
    "        x_hat = self.decoder(z)\n",
    "        return x_hat\n",
    "    "
   ]
  },
  {
   "cell_type": "code",
   "execution_count": 47,
   "metadata": {},
   "outputs": [
    {
     "name": "stdout",
     "output_type": "stream",
     "text": [
      "Autoencoder(\n",
      "  (encoder): Sequential(\n",
      "    (0): Linear(in_features=784, out_features=128, bias=True)\n",
      "    (1): ReLU()\n",
      "    (2): Linear(in_features=128, out_features=32, bias=True)\n",
      "    (3): ReLU()\n",
      "  )\n",
      "  (decoder): Sequential(\n",
      "    (0): Linear(in_features=32, out_features=128, bias=True)\n",
      "    (1): ReLU()\n",
      "    (2): Linear(in_features=128, out_features=784, bias=True)\n",
      "    (3): Sigmoid()\n",
      "  )\n",
      ")\n"
     ]
    }
   ],
   "source": [
    "net = Autoencoder()\n",
    "print(net)"
   ]
  },
  {
   "cell_type": "code",
   "execution_count": 48,
   "metadata": {},
   "outputs": [],
   "source": [
    "# função custo\n",
    "loss_function = nn.MSELoss()\n",
    "optim = torch.optim.Adam(net.parameters(), lr=2e-3, weight_decay=1e-7)"
   ]
  },
  {
   "cell_type": "markdown",
   "metadata": {},
   "source": [
    "> com os parametros da rede definidos, vamos fazer o treinamento agora"
   ]
  },
  {
   "cell_type": "code",
   "execution_count": 49,
   "metadata": {},
   "outputs": [
    {
     "name": "stdout",
     "output_type": "stream",
     "text": [
      "0 1 2 3 4 5 6 7 8 9 "
     ]
    }
   ],
   "source": [
    "epochs = 10\n",
    "outputs = []\n",
    "losses = []\n",
    "\n",
    "for epoch in range(epochs):\n",
    "    print(f'{epoch} ', end='')\n",
    "    for (image, _) in dataloader:\n",
    "        # como autoencoder é denso, redimensiona as imagens para 1D\n",
    "        image = image.reshape(-1, 28*28)\n",
    "        # saída do autoencoder\n",
    "        reconstructed = net(image)\n",
    "        # calcula a função custo\n",
    "        loss = loss_function(reconstructed, image)\n",
    "        # zera os gradientes\n",
    "        optim.zero_grad()\n",
    "        # backpropagation\n",
    "        loss.backward()\n",
    "        # atualiza os pesos\n",
    "        optim.step()\n",
    "        losses.append(loss)\n",
    "    \n",
    "    outputs.append((epoch, image, reconstructed))"
   ]
  },
  {
   "cell_type": "code",
   "execution_count": 50,
   "metadata": {},
   "outputs": [
    {
     "name": "stdout",
     "output_type": "stream",
     "text": [
      "18750\n"
     ]
    }
   ],
   "source": [
    "# extraindo os valores de MSE para as epocas\n",
    "losses_val = [l.item() for l in losses]\n",
    "\n",
    "print(len(losses_val))"
   ]
  },
  {
   "cell_type": "code",
   "execution_count": 51,
   "metadata": {},
   "outputs": [
    {
     "data": {
      "text/plain": [
       "[<matplotlib.lines.Line2D at 0x2a9ecbf9b20>]"
      ]
     },
     "execution_count": 51,
     "metadata": {},
     "output_type": "execute_result"
    },
    {
     "data": {
      "image/png": "[encoded data removed]",
      "text/plain": [
       "<Figure size 640x480 with 1 Axes>"
      ]
     },
     "metadata": {},
     "output_type": "display_data"
    }
   ],
   "source": [
    "plt.xlabel('iterations')\n",
    "plt.ylabel('loss')\n",
    "plt.plot(losses_val)"
   ]
  },
  {
   "cell_type": "markdown",
   "metadata": {},
   "source": [
    "> podemos reconstruir as imagens para saber como fica"
   ]
  },
  {
   "cell_type": "code",
   "execution_count": 52,
   "metadata": {},
   "outputs": [
    {
     "ename": "AttributeError",
     "evalue": "'Line2D' object has no property 'cmap'",
     "output_type": "error",
     "traceback": [
      "\u001b[1;31m---------------------------------------------------------------------------\u001b[0m",
      "\u001b[1;31mAttributeError\u001b[0m                            Traceback (most recent call last)",
      "\u001b[1;32mc:\\Users\\felip\\Documents\\RedesNeurais\\bloco7_autoenconders\\aula7_dem1.ipynb Célula: 13\u001b[0m in \u001b[0;36m<cell line: 1>\u001b[1;34m()\u001b[0m\n\u001b[0;32m      <a href='vscode-notebook-cell:/c%3A/Users/felip/Documents/RedesNeurais/bloco7_autoenconders/aula7_dem1.ipynb#X30sZmlsZQ%3D%3D?line=1'>2</a>\u001b[0m     item \u001b[39m=\u001b[39m item\u001b[39m.\u001b[39mreshape(\u001b[39m-\u001b[39m\u001b[39m1\u001b[39m, \u001b[39m28\u001b[39m, \u001b[39m28\u001b[39m)\n\u001b[0;32m      <a href='vscode-notebook-cell:/c%3A/Users/felip/Documents/RedesNeurais/bloco7_autoenconders/aula7_dem1.ipynb#X30sZmlsZQ%3D%3D?line=2'>3</a>\u001b[0m     plt\u001b[39m.\u001b[39msubplot(\u001b[39m211\u001b[39m)\n\u001b[1;32m----> <a href='vscode-notebook-cell:/c%3A/Users/felip/Documents/RedesNeurais/bloco7_autoenconders/aula7_dem1.ipynb#X30sZmlsZQ%3D%3D?line=3'>4</a>\u001b[0m     plt\u001b[39m.\u001b[39;49mplot(item[\u001b[39m0\u001b[39;49m], cmap\u001b[39m=\u001b[39;49m\u001b[39m'\u001b[39;49m\u001b[39mgray\u001b[39;49m\u001b[39m'\u001b[39;49m)\n\u001b[0;32m      <a href='vscode-notebook-cell:/c%3A/Users/felip/Documents/RedesNeurais/bloco7_autoenconders/aula7_dem1.ipynb#X30sZmlsZQ%3D%3D?line=5'>6</a>\u001b[0m \u001b[39mfor\u001b[39;00m i, item \u001b[39min\u001b[39;00m \u001b[39menumerate\u001b[39m(reconstructed):\n\u001b[0;32m      <a href='vscode-notebook-cell:/c%3A/Users/felip/Documents/RedesNeurais/bloco7_autoenconders/aula7_dem1.ipynb#X30sZmlsZQ%3D%3D?line=6'>7</a>\u001b[0m     item \u001b[39m=\u001b[39m item\u001b[39m.\u001b[39mreshape(\u001b[39m-\u001b[39m\u001b[39m1\u001b[39m, \u001b[39m28\u001b[39m, \u001b[39m28\u001b[39m)\n",
      "File \u001b[1;32m~\\AppData\\Local\\Packages\\PythonSoftwareFoundation.Python.3.9_qbz5n2kfra8p0\\LocalCache\\local-packages\\Python39\\site-packages\\matplotlib\\pyplot.py:2769\u001b[0m, in \u001b[0;36mplot\u001b[1;34m(scalex, scaley, data, *args, **kwargs)\u001b[0m\n\u001b[0;32m   2767\u001b[0m \u001b[39m@_copy_docstring_and_deprecators\u001b[39m(Axes\u001b[39m.\u001b[39mplot)\n\u001b[0;32m   2768\u001b[0m \u001b[39mdef\u001b[39;00m \u001b[39mplot\u001b[39m(\u001b[39m*\u001b[39margs, scalex\u001b[39m=\u001b[39m\u001b[39mTrue\u001b[39;00m, scaley\u001b[39m=\u001b[39m\u001b[39mTrue\u001b[39;00m, data\u001b[39m=\u001b[39m\u001b[39mNone\u001b[39;00m, \u001b[39m*\u001b[39m\u001b[39m*\u001b[39mkwargs):\n\u001b[1;32m-> 2769\u001b[0m     \u001b[39mreturn\u001b[39;00m gca()\u001b[39m.\u001b[39mplot(\n\u001b[0;32m   2770\u001b[0m         \u001b[39m*\u001b[39margs, scalex\u001b[39m=\u001b[39mscalex, scaley\u001b[39m=\u001b[39mscaley,\n\u001b[0;32m   2771\u001b[0m         \u001b[39m*\u001b[39m\u001b[39m*\u001b[39m({\u001b[39m\"\u001b[39m\u001b[39mdata\u001b[39m\u001b[39m\"\u001b[39m: data} \u001b[39mif\u001b[39;00m data \u001b[39mis\u001b[39;00m \u001b[39mnot\u001b[39;00m \u001b[39mNone\u001b[39;00m \u001b[39melse\u001b[39;00m {}), \u001b[39m*\u001b[39m\u001b[39m*\u001b[39mkwargs)\n",
      "File \u001b[1;32m~\\AppData\\Local\\Packages\\PythonSoftwareFoundation.Python.3.9_qbz5n2kfra8p0\\LocalCache\\local-packages\\Python39\\site-packages\\matplotlib\\axes\\_axes.py:1632\u001b[0m, in \u001b[0;36mplot\u001b[1;34m(self, scalex, scaley, data, *args, **kwargs)\u001b[0m\n",
      "File \u001b[1;32m~\\AppData\\Local\\Packages\\PythonSoftwareFoundation.Python.3.9_qbz5n2kfra8p0\\LocalCache\\local-packages\\Python39\\site-packages\\matplotlib\\axes\\_base.py:312\u001b[0m, in \u001b[0;36m__call__\u001b[1;34m(self, data, *args, **kwargs)\u001b[0m\n",
      "File \u001b[1;32m~\\AppData\\Local\\Packages\\PythonSoftwareFoundation.Python.3.9_qbz5n2kfra8p0\\LocalCache\\local-packages\\Python39\\site-packages\\matplotlib\\axes\\_base.py:538\u001b[0m, in \u001b[0;36m_plot_args\u001b[1;34m(self, tup, kwargs, return_kwargs)\u001b[0m\n",
      "File \u001b[1;32m~\\AppData\\Local\\Packages\\PythonSoftwareFoundation.Python.3.9_qbz5n2kfra8p0\\LocalCache\\local-packages\\Python39\\site-packages\\matplotlib\\axes\\_base.py:538\u001b[0m, in \u001b[0;36m<listcomp>\u001b[1;34m(.0)\u001b[0m\n",
      "File \u001b[1;32m~\\AppData\\Local\\Packages\\PythonSoftwareFoundation.Python.3.9_qbz5n2kfra8p0\\LocalCache\\local-packages\\Python39\\site-packages\\matplotlib\\axes\\_base.py:531\u001b[0m, in \u001b[0;36m<genexpr>\u001b[1;34m(.0)\u001b[0m\n",
      "File \u001b[1;32m~\\AppData\\Local\\Packages\\PythonSoftwareFoundation.Python.3.9_qbz5n2kfra8p0\\LocalCache\\local-packages\\Python39\\site-packages\\matplotlib\\axes\\_base.py:351\u001b[0m, in \u001b[0;36m_makeline\u001b[1;34m(self, x, y, kw, kwargs)\u001b[0m\n",
      "File \u001b[1;32m~\\AppData\\Local\\Packages\\PythonSoftwareFoundation.Python.3.9_qbz5n2kfra8p0\\LocalCache\\local-packages\\Python39\\site-packages\\matplotlib\\lines.py:393\u001b[0m, in \u001b[0;36mLine2D.__init__\u001b[1;34m(self, xdata, ydata, linewidth, linestyle, color, marker, markersize, markeredgewidth, markeredgecolor, markerfacecolor, markerfacecoloralt, fillstyle, antialiased, dash_capstyle, solid_capstyle, dash_joinstyle, solid_joinstyle, pickradius, drawstyle, markevery, **kwargs)\u001b[0m\n\u001b[0;32m    389\u001b[0m \u001b[39mself\u001b[39m\u001b[39m.\u001b[39mset_markeredgewidth(markeredgewidth)\n\u001b[0;32m    391\u001b[0m \u001b[39m# update kwargs before updating data to give the caller a\u001b[39;00m\n\u001b[0;32m    392\u001b[0m \u001b[39m# chance to init axes (and hence unit support)\u001b[39;00m\n\u001b[1;32m--> 393\u001b[0m \u001b[39mself\u001b[39;49m\u001b[39m.\u001b[39;49mupdate(kwargs)\n\u001b[0;32m    394\u001b[0m \u001b[39mself\u001b[39m\u001b[39m.\u001b[39mpickradius \u001b[39m=\u001b[39m pickradius\n\u001b[0;32m    395\u001b[0m \u001b[39mself\u001b[39m\u001b[39m.\u001b[39mind_offset \u001b[39m=\u001b[39m \u001b[39m0\u001b[39m\n",
      "File \u001b[1;32m~\\AppData\\Local\\Packages\\PythonSoftwareFoundation.Python.3.9_qbz5n2kfra8p0\\LocalCache\\local-packages\\Python39\\site-packages\\matplotlib\\artist.py:1064\u001b[0m, in \u001b[0;36mupdate\u001b[1;34m(self, props)\u001b[0m\n",
      "\u001b[1;31mAttributeError\u001b[0m: 'Line2D' object has no property 'cmap'"
     ]
    },
    {
     "data": {
      "image/png": "[encoded data removed]",
      "text/plain": [
       "<Figure size 640x480 with 1 Axes>"
      ]
     },
     "metadata": {},
     "output_type": "display_data"
    }
   ],
   "source": [
    "for i, item in enumerate(image):\n",
    "    item = item.reshape(-1, 28, 28)\n",
    "    plt.subplot(211)\n",
    "    plt.imgshow(item[0], cmap='gray')\n",
    "\n",
    "for i, item in enumerate(reconstructed):\n",
    "    item = item.reshape(-1, 28, 28)\n",
    "    plt.subplot(212)\n",
    "    plt.imgshow(item[0].detach().numpy(), cmap='gray')"
   ]
  },
  {
   "cell_type": "markdown",
   "metadata": {},
   "source": [
    "> podemos também utilizar APENAS o encoder treinado para obter feautures das iamgens"
   ]
  },
  {
   "cell_type": "code",
   "execution_count": null,
   "metadata": {},
   "outputs": [],
   "source": [
    "features = net.encoder(image)\n",
    "\n",
    "features[0].detach().numpy()"
   ]
  }
 ],
 "metadata": {
  "kernelspec": {
   "display_name": "Python 3.9.13 64-bit (microsoft store)",
   "language": "python",
   "name": "python3"
  },
  "language_info": {
   "codemirror_mode": {
    "name": "ipython",
    "version": 3
   },
   "file_extension": ".py",
   "mimetype": "text/x-python",
   "name": "python",
   "nbconvert_exporter": "python",
   "pygments_lexer": "ipython3",
   "version": "3.9.13"
  },
  "orig_nbformat": 4,
  "vscode": {
   "interpreter": {
    "hash": "a33b474888067a6169f866e52f630d6f3672d35114c8362b477a93e2a003ce7e"
   }
  }
 },
 "nbformat": 4,
 "nbformat_minor": 2
}
